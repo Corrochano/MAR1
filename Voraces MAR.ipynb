{
 "cells": [
  {
   "cell_type": "markdown",
   "metadata": {},
   "source": [
    "# Ejercicios de la Hoja de Algoritmos Voraces"
   ]
  },
  {
   "cell_type": "code",
   "execution_count": 1,
   "metadata": {},
   "outputs": [],
   "source": [
    "# Ejercicio 9\n",
    "def selecciona(b,r):\n",
    "    ret = 0 # Variable de retorno\n",
    "    \n",
    "    while b != [] and r != []: # Me salgo cuando acabo todos los partidos\n",
    "        i = b.index(max(b)) # Cojo mi máxima puntuación\n",
    "        j = r.index(min(r)) # Cojo su mínima puntuación\n",
    "        \n",
    "        if r[j] < b[i]: # Si gano el partido\n",
    "            ret += b[i] - r[j] # Añado la diferencia al retorno\n",
    "        \n",
    "            b.pop(i) # Quito esta puntuación de las mías\n",
    "            r.pop(j) # Quito esta puntuación de las suyas\n",
    "        else: # Si pierdo el partido\n",
    "            b = [] # Acabo el bucle porque ya no voy a ganar ninguno más\n",
    "        \n",
    "    return ret # Retorno la variable"
   ]
  },
  {
   "cell_type": "code",
   "execution_count": 2,
   "metadata": {},
   "outputs": [
    {
     "name": "stdout",
     "output_type": "stream",
     "text": [
      "50\n",
      "0\n",
      "38\n",
      "50\n",
      "67\n",
      "50\n",
      "59\n"
     ]
    }
   ],
   "source": [
    "print(selecciona([2,40,35],[37,15,10])) # -> 50\n",
    "print(selecciona([2,40,35],[370,100,200])) # -> 0\n",
    "print(selecciona([2,40,35],[370,100,2])) # -> 38\n",
    "print(selecciona([20,40,35],[37,15,10])) # -> 50\n",
    "print(selecciona([20,40,35],[3,5,100])) # -> 67\n",
    "print(selecciona([20,40,35],[21,15,10])) # -> 50\n",
    "print(selecciona([20,40,35],[21,15,1])) # -> 59"
   ]
  },
  {
   "cell_type": "code",
   "execution_count": 3,
   "metadata": {},
   "outputs": [],
   "source": [
    "#Ejercicio 15 Parte 1\n",
    "def organizaMin(s):\n",
    "    ret = [] # Variable de retorno\n",
    "    \n",
    "    while(len(s) > 1): # Si aún quedan partidos por jugar (hay +1 equipo)\n",
    "        r = []         # Auxiliar para almacenar los que quedan al ganar\n",
    "        while(len(s) > 1): # Mientras quede más de un equipo sin jugar\n",
    "            a = s.pop(s.index(min(s))) # Cojo el que menos fans tiene\n",
    "            b = s.pop(s.index(min(s))) # Cojo el segundo que menos fans tiene\n",
    "            ret.append([a+b]) # Añado al retorno la gente total que ha asistido\n",
    "            r.append(a+b) # Añado a la variable auxiliar el equipo restante\n",
    "\n",
    "        r += s # Le sumo S por si algún equipo no ha jugado esta ronda\n",
    "        s = r.copy() # Copio r en s\n",
    "        \n",
    "    return ret # Retorno"
   ]
  },
  {
   "cell_type": "code",
   "execution_count": 4,
   "metadata": {},
   "outputs": [
    {
     "name": "stdout",
     "output_type": "stream",
     "text": [
      "[[12], [38], [50]]\n",
      "[[12], [28], [32], [60]]\n"
     ]
    }
   ],
   "source": [
    "print(organizaMin([20,5,7,18]))\n",
    "print(organizaMin([20,5,7,18,10]))"
   ]
  },
  {
   "cell_type": "code",
   "execution_count": 5,
   "metadata": {},
   "outputs": [],
   "source": [
    "#Ejercicio 15 Parte 2\n",
    "def organizaMax(s):\n",
    "    ret = [] # Variable de retorno\n",
    "    \n",
    "    while(len(s) > 1): # Si aún quedan partidos por jugar (hay +1 equipo)\n",
    "        r = [] # Auxiliar para almacenar los que quedan al ganar\n",
    "        while(len(s) > 1): # Mientras quede más de un equipo sin jugar\n",
    "            a = s.pop(s.index(max(s))) # Cojo el que más fans tiene\n",
    "            b = s.pop(s.index(max(s))) # Cojo el segundo que más fans tiene\n",
    "            ret.append([a+b]) # Añado al retorno la gente total que ha asistido\n",
    "            r.append(a+b) # Añado a la variable auxiliar el equipo restante\n",
    "\n",
    "        r += s # Le sumo S por si algún equipo no ha jugado esta ronda\n",
    "        s = r.copy() # Copio r en s\n",
    "        \n",
    "    return ret # Retorno"
   ]
  },
  {
   "cell_type": "code",
   "execution_count": 6,
   "metadata": {},
   "outputs": [
    {
     "name": "stdout",
     "output_type": "stream",
     "text": [
      "[[38], [12], [50]]\n",
      "[[38], [17], [55], [60]]\n"
     ]
    }
   ],
   "source": [
    "print(organizaMax([20,5,7,18]))\n",
    "print(organizaMax([20,5,7,18,10]))"
   ]
  },
  {
   "cell_type": "code",
   "execution_count": 7,
   "metadata": {},
   "outputs": [],
   "source": [
    "# Ejercicio 18\n",
    "def descuentos(p):\n",
    "    ret = [] # Variable de retorno\n",
    "    \n",
    "    while(len(p) > 2): # Mientras me queden mínimo 3 productos\n",
    "        a = p.pop(p.index(max(p))) # Cojo el más caro\n",
    "        b = p.pop(p.index(max(p))) # Cojo el 2º más caro\n",
    "        c = p.pop(p.index(max(p))) # Cojo el 3º más caro\n",
    "        ret.append([a,b,c]) # Los guardamos en las variable de retorno\n",
    "    \n",
    "    return ret # Retornamos la variable de retorno"
   ]
  },
  {
   "cell_type": "code",
   "execution_count": 8,
   "metadata": {},
   "outputs": [
    {
     "data": {
      "text/plain": [
       "[[40, 35, 30], [25, 20, 15]]"
      ]
     },
     "execution_count": 8,
     "metadata": {},
     "output_type": "execute_result"
    }
   ],
   "source": [
    "descuentos([40, 35, 30, 25, 20, 15]) # [[40, 35, 30], [25, 20, 15]] -> ahorro de 45"
   ]
  },
  {
   "cell_type": "code",
   "execution_count": 39,
   "metadata": {},
   "outputs": [],
   "source": [
    "# Ejercicio 19\n",
    "def banquete(a, m):\n",
    "    a.sort(reverse=True) # Ordenamos los asistentes de mayor a menor\n",
    "    m.sort() # Ordenamos las mesas de menor a mayor\n",
    "    \n",
    "    ret = [] # Variable de retorno\n",
    "    \n",
    "    while len(a) > 0 and len(m) > 0 : # Mientras queden asistentes y también mesas\n",
    "        i = 0 # Variable para iterar\n",
    "        while i < len(m) and m[i] < a[0] : i += 1 # Itero hasta que quepan en una mesa\n",
    "        \n",
    "        if i < len(m): # Si han cabido en alguna\n",
    "            ret.append([a[0],m[i]]) # Añado los asistentes a la mesa en la var. ret.\n",
    "            m.pop(i) # Saco esa mesa\n",
    "        a.pop(0) # Saco a esos asistentes (tanto si entran como si no)\n",
    "        \n",
    "    return ret # Retornamos"
   ]
  },
  {
   "cell_type": "code",
   "execution_count": 42,
   "metadata": {},
   "outputs": [
    {
     "name": "stdout",
     "output_type": "stream",
     "text": [
      "[[22, 23], [15, 18]]\n",
      "[[10, 18]]\n",
      "[[22, 23], [10, 10]]\n",
      "[[45, 47], [22, 23], [10, 10]]\n",
      "[[45, 47], [22, 23], [15, 25], [10, 10]]\n"
     ]
    }
   ],
   "source": [
    "print(banquete([10,15,22], [18,23])) # [[22, 23], [15, 18]]\n",
    "print(banquete([10], [18,23])) # [[10, 18]]\n",
    "print(banquete([10,15,22], [9,10,23])) # [[22, 23], [10, 10]]\n",
    "print(banquete([10,15,22,45], [9,10,23,47])) # [[45, 47], [22, 23], [10, 10]]\n",
    "print(banquete([10,15,22,45], [25,10,23,47])) # [[45, 47], [22, 23], [15, 25], [10, 10]]"
   ]
  },
  {
   "cell_type": "code",
   "execution_count": 86,
   "metadata": {},
   "outputs": [],
   "source": [
    "# Ejercicio 24\n",
    "def varillas(v,l):\n",
    "    v.sort(reverse=True) # Ordenamos las varillas de mayor a menor\n",
    "    \n",
    "    ret = [] # variable de retorno\n",
    "\n",
    "    while len(v) > 1: # mientras me quede más de una varilla\n",
    "        i = len(v) - 1 # útimo index de la lista\n",
    "        \n",
    "        while i > 0 and v[0] + v[i] < l: # mientras no sea ella misma y la suma no sea la necesaria\n",
    "            i -= 1 # Disminuimos en 1 la i\n",
    "        \n",
    "        if i > 0: # Si se ha podido juntar\n",
    "            ret.append([v[0],v.pop(i)]) # Lo añadimos al retorno\n",
    "        v.pop(0) # Quitamos la varilla se haya podido juntar o no\n",
    "        \n",
    "    return ret # Retorno"
   ]
  },
  {
   "cell_type": "code",
   "execution_count": 90,
   "metadata": {},
   "outputs": [
    {
     "name": "stdout",
     "output_type": "stream",
     "text": [
      "[[8, 2], [6, 4]]\n",
      "[[8, 2], [6, 4]]\n",
      "[[8, 2], [7, 4], [6, 5]]\n",
      "[]\n",
      "[]\n"
     ]
    }
   ],
   "source": [
    "print(varillas([5,6,2,8,4,1],10)) # [[8, 2], [6, 4]]\n",
    "print(varillas([8,2,4,6,5],10)) # [[8, 2], [6, 4]]\n",
    "print(varillas([8,2,4,6,5,7],10)) # [[8, 2], [7, 4], [6, 5]]\n",
    "print(varillas([1],10)) # []\n",
    "print(varillas([1,2],10)) # []"
   ]
  },
  {
   "cell_type": "code",
   "execution_count": 187,
   "metadata": {},
   "outputs": [],
   "source": [
    "# Ejercicio 25\n",
    "def trenes(t): # Cuando un tren llega y otro se va a la misma hora, no están a la vez\n",
    "    ret = 0 # Variable de retorno\n",
    "    t.sort() # Ordenamos los trenes\n",
    "    a = [] # Auxiliar para guardar la hora de salida de los que hay\n",
    "\n",
    "    while len(t) > 0: # Mientras me queden trenes\n",
    "        a.append(t[0][1]) # Añadimos el tren que acaba de llegar     \n",
    "   \n",
    "        while a[0] <= t[0][0]: # Iteramos para quitar los que se deberían haber ido\n",
    "            a.pop(0) # Los quitamos\n",
    "             \n",
    "        a.sort() # Ordenamos las horas de salida de los que hay\n",
    "        t.pop(0) # Quitamos de la lista de trenes al que ha llegado\n",
    "        ret = max(ret,len(a)) # Si ahora tenemos más trenes que anteriormente, actualizamos ret\n",
    "        \n",
    "    return ret # Retorno"
   ]
  },
  {
   "cell_type": "code",
   "execution_count": 191,
   "metadata": {},
   "outputs": [
    {
     "name": "stdout",
     "output_type": "stream",
     "text": [
      "3\n",
      "4\n",
      "4\n",
      "5\n"
     ]
    }
   ],
   "source": [
    "print(trenes([[10,11],[10,11],[11,12],[11,12],[11,12],[12,13]])) # 3\n",
    "print(trenes([[10,11],[10,12],[10,15],[11,13],[11,14],[12,13]])) # 4\n",
    "print(trenes([[10,11],[10,12],[11,13],[12,13],[11,14],[10,15]])) # 4\n",
    "print(trenes([[10,11],[10,12],[10,15],[11,13],[11,14],[12,13],[10,16]])) # 5"
   ]
  },
  {
   "cell_type": "code",
   "execution_count": null,
   "metadata": {},
   "outputs": [],
   "source": []
  }
 ],
 "metadata": {
  "kernelspec": {
   "display_name": "Python 3",
   "language": "python",
   "name": "python3"
  },
  "language_info": {
   "codemirror_mode": {
    "name": "ipython",
    "version": 3
   },
   "file_extension": ".py",
   "mimetype": "text/x-python",
   "name": "python",
   "nbconvert_exporter": "python",
   "pygments_lexer": "ipython3",
   "version": "3.8.5"
  }
 },
 "nbformat": 4,
 "nbformat_minor": 4
}
